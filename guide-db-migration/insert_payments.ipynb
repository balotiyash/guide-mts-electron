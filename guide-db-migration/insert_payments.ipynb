{
 "cells": [
  {
   "cell_type": "code",
   "execution_count": 2,
   "id": "5fc4bf38",
   "metadata": {},
   "outputs": [],
   "source": [
    "import pandas as pd\n",
    "import sqlite3\n",
    "from datetime import datetime"
   ]
  },
  {
   "cell_type": "code",
   "execution_count": 3,
   "id": "d2948bab",
   "metadata": {},
   "outputs": [],
   "source": [
    "# ------------------------------\n",
    "# Load CSV\n",
    "# ------------------------------\n",
    "payments_df = pd.read_csv(\"csv_data/tbl_accounts.csv\")"
   ]
  },
  {
   "cell_type": "code",
   "execution_count": 4,
   "id": "d372c638",
   "metadata": {},
   "outputs": [
    {
     "name": "stderr",
     "output_type": "stream",
     "text": [
      "C:\\Users\\balot\\AppData\\Local\\Temp\\ipykernel_14400\\1720972424.py:2: FutureWarning: DataFrame.applymap has been deprecated. Use DataFrame.map instead.\n",
      "  payments_df = payments_df.applymap(lambda x: str(x).lower() if pd.notnull(x) else None)\n"
     ]
    }
   ],
   "source": [
    "# Normalize lowercase\n",
    "payments_df = payments_df.applymap(lambda x: str(x).lower() if pd.notnull(x) else None)"
   ]
  },
  {
   "cell_type": "code",
   "execution_count": 5,
   "id": "dd208ac4",
   "metadata": {},
   "outputs": [],
   "source": [
    "# ------------------------------\n",
    "# Connect to DB\n",
    "# ------------------------------\n",
    "conn = sqlite3.connect(\"sqlite_db/guide-mts-data.sqlite3\")\n",
    "cursor = conn.cursor()"
   ]
  },
  {
   "cell_type": "code",
   "execution_count": 7,
   "id": "d06bb1b2",
   "metadata": {},
   "outputs": [],
   "source": [
    "# Load work_descriptions for mapping\n",
    "work_desc_df = pd.read_sql(\"SELECT id, customer_id, work FROM work_descriptions\", conn)"
   ]
  },
  {
   "cell_type": "code",
   "execution_count": 11,
   "id": "17a82cf3",
   "metadata": {},
   "outputs": [
    {
     "name": "stderr",
     "output_type": "stream",
     "text": [
      "C:\\Users\\balot\\AppData\\Local\\Temp\\ipykernel_14400\\1285410995.py:3: FutureWarning: DataFrame.applymap has been deprecated. Use DataFrame.map instead.\n",
      "  jobs_df = jobs_df.applymap(lambda x: str(x).lower() if pd.notnull(x) else None)\n"
     ]
    }
   ],
   "source": [
    "# Load jobs to map jobid -> jobdesc\n",
    "jobs_df = pd.read_csv(\"csv_data/mst_job.csv\")\n",
    "jobs_df = jobs_df.applymap(lambda x: str(x).lower() if pd.notnull(x) else None)"
   ]
  },
  {
   "cell_type": "code",
   "execution_count": 14,
   "id": "5e357160",
   "metadata": {},
   "outputs": [],
   "source": [
    "# ------------------------------\n",
    "# Merge logic\n",
    "# ------------------------------\n",
    "# Step 1: Map jobid -> jobdesc\n",
    "payments_df = payments_df.merge(jobs_df[[\"JobID\", \"JobDesc\"]], on=\"JobID\", how=\"left\")\n",
    "\n",
    "# Step 2: Match with work_descriptions (customer_id + jobdesc)\n",
    "# Ensure both keys are of the same type (string)\n",
    "work_desc_df['customer_id'] = work_desc_df['customer_id'].astype(str)\n",
    "\n",
    "merged = payments_df.merge(\n",
    "    work_desc_df,\n",
    "    left_on=[\"StuID\", \"JobDesc\"],\n",
    "    right_on=[\"customer_id\", \"work\"],\n",
    "    how=\"inner\"\n",
    ")"
   ]
  },
  {
   "cell_type": "code",
   "execution_count": 15,
   "id": "0cd906dc",
   "metadata": {},
   "outputs": [],
   "source": [
    "# ------------------------------\n",
    "# Prepare final insert DF\n",
    "# ------------------------------\n",
    "final_df = pd.DataFrame()\n",
    "final_df[\"customer_id\"] = merged[\"StuID\"]\n",
    "final_df[\"work_desc_id\"] = merged[\"id\"]\n",
    "final_df[\"payment_mode\"] = merged[\"ModeOfPymt\"]\n",
    "final_df[\"amount_paid\"] = merged[\"PaidAmt\"]\n",
    "final_df[\"created_on\"] = merged[\"PymtDt\"]\n",
    "\n",
    "# current timestamp\n",
    "current_time = datetime.now().strftime(\"%Y-%m-%d %H:%M:%S\")\n",
    "final_df[\"updated_on\"] = current_time"
   ]
  },
  {
   "cell_type": "code",
   "execution_count": 16,
   "id": "8000f691",
   "metadata": {},
   "outputs": [
    {
     "name": "stdout",
     "output_type": "stream",
     "text": [
      "✅ Payments inserted successfully into payments table\n",
      "  customer_id  work_desc_id payment_mode amount_paid           created_on  \\\n",
      "0          53            28         cash         300  2013-05-20 00:00:00   \n",
      "1          54            23       select           0  2013-05-20 00:00:00   \n",
      "2          46            21         cash        3500  2013-05-20 00:00:00   \n",
      "3          47            91         cash        3500  2013-05-20 00:00:00   \n",
      "4          51             9         cash        3500  2013-05-20 00:00:00   \n",
      "5          43            48         cash        3500  2013-05-20 00:00:00   \n",
      "6          42            47         cash        3500  2013-05-20 00:00:00   \n",
      "7          54            23         cash        3500  2013-05-20 00:00:00   \n",
      "8          55            15       select           0  2013-05-20 00:00:00   \n",
      "9          56            20       select           0  2013-05-21 00:00:00   \n",
      "\n",
      "            updated_on  \n",
      "0  2025-08-24 12:51:08  \n",
      "1  2025-08-24 12:51:08  \n",
      "2  2025-08-24 12:51:08  \n",
      "3  2025-08-24 12:51:08  \n",
      "4  2025-08-24 12:51:08  \n",
      "5  2025-08-24 12:51:08  \n",
      "6  2025-08-24 12:51:08  \n",
      "7  2025-08-24 12:51:08  \n",
      "8  2025-08-24 12:51:08  \n",
      "9  2025-08-24 12:51:08  \n"
     ]
    }
   ],
   "source": [
    "# ------------------------------\n",
    "# Insert into SQLite\n",
    "# ------------------------------\n",
    "final_df.to_sql(\"payments\", conn, if_exists=\"append\", index=False)\n",
    "\n",
    "print(\"✅ Payments inserted successfully into payments table\")\n",
    "print(final_df.head(10))"
   ]
  }
 ],
 "metadata": {
  "kernelspec": {
   "display_name": ".venv",
   "language": "python",
   "name": "python3"
  },
  "language_info": {
   "codemirror_mode": {
    "name": "ipython",
    "version": 3
   },
   "file_extension": ".py",
   "mimetype": "text/x-python",
   "name": "python",
   "nbconvert_exporter": "python",
   "pygments_lexer": "ipython3",
   "version": "3.11.6"
  }
 },
 "nbformat": 4,
 "nbformat_minor": 5
}
