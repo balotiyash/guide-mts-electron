{
 "cells": [
  {
   "cell_type": "code",
   "execution_count": 2,
   "id": "6cb684a4",
   "metadata": {},
   "outputs": [],
   "source": [
    "import pandas as pd\n",
    "import sqlite3\n",
    "from datetime import datetime, timedelta\n",
    "import calendar"
   ]
  },
  {
   "cell_type": "code",
   "execution_count": null,
   "id": "4720edb8",
   "metadata": {},
   "outputs": [
    {
     "name": "stderr",
     "output_type": "stream",
     "text": [
      "C:\\Users\\balot\\AppData\\Local\\Temp\\ipykernel_25400\\64681004.py:7: FutureWarning: DataFrame.applymap has been deprecated. Use DataFrame.map instead.\n",
      "  fuel_df = fuel_df.applymap(lambda x: str(x).lower() if pd.notnull(x) else None)\n"
     ]
    }
   ],
   "source": [
    "# ------------------------------\n",
    "# Load CSV\n",
    "# ------------------------------\n",
    "fuel_df = pd.read_csv(\"csv_data/tbl_carfule.csv\")\n",
    "\n",
    "# Lowercase all text\n",
    "fuel_df = fuel_df.applymap(lambda x: str(x).lower() if pd.notnull(x) else None)"
   ]
  },
  {
   "cell_type": "code",
   "execution_count": null,
   "id": "12159507",
   "metadata": {},
   "outputs": [],
   "source": [
    "# ------------------------------\n",
    "# Function to expand month -> daily entries\n",
    "# ------------------------------\n",
    "def expand_monthly(row):\n",
    "    entries = []\n",
    "    \n",
    "    # parse month-year\n",
    "    month_str = row[\"FuleDT\"]\n",
    "    # start_date = datetime.strptime(month_str, \"%B%Y\") // Error\n",
    "    start_date = datetime.strptime(month_str, \"%b-%y\")\n",
    "    \n",
    "    # number of days in that month\n",
    "    days_in_month = calendar.monthrange(start_date.year, start_date.month)[1]\n",
    "    \n",
    "    # daily fuel amount (equal distribution)\n",
    "    daily_amt = float(row[\"FuleAmt\"]) / days_in_month\n",
    "    \n",
    "    for day in range(days_in_month):\n",
    "        date = start_date + timedelta(days=day)\n",
    "        entries.append({\n",
    "            \"vehicle_id\": row[\"CarID\"],\n",
    "            \"refuel_date\": date.strftime(\"%Y-%m-%d\"),\n",
    "            \"fuel_amount\": f\"{daily_amt:.2f}\",\n",
    "            \"created_on\": date.strftime(\"%Y-%m-%d %H:%M:%S\"),\n",
    "            \"updated_on\": datetime.now().strftime(\"%Y-%m-%d %H:%M:%S\")\n",
    "        })\n",
    "    \n",
    "    return entries"
   ]
  },
  {
   "cell_type": "code",
   "execution_count": 7,
   "id": "9f09375b",
   "metadata": {},
   "outputs": [
    {
     "ename": "NameError",
     "evalue": "name 'parse_month_year' is not defined",
     "output_type": "error",
     "traceback": [
      "\u001b[31m---------------------------------------------------------------------------\u001b[39m",
      "\u001b[31mNameError\u001b[39m                                 Traceback (most recent call last)",
      "\u001b[36mCell\u001b[39m\u001b[36m \u001b[39m\u001b[32mIn[7]\u001b[39m\u001b[32m, line 6\u001b[39m\n\u001b[32m      4\u001b[39m all_entries = []\n\u001b[32m      5\u001b[39m \u001b[38;5;28;01mfor\u001b[39;00m _, row \u001b[38;5;129;01min\u001b[39;00m fuel_df.iterrows():\n\u001b[32m----> \u001b[39m\u001b[32m6\u001b[39m     all_entries.extend(\u001b[43mexpand_monthly\u001b[49m\u001b[43m(\u001b[49m\u001b[43mrow\u001b[49m\u001b[43m)\u001b[49m)\n\u001b[32m      8\u001b[39m final_df = pd.DataFrame(all_entries)\n",
      "\u001b[36mCell\u001b[39m\u001b[36m \u001b[39m\u001b[32mIn[6]\u001b[39m\u001b[32m, line 8\u001b[39m, in \u001b[36mexpand_monthly\u001b[39m\u001b[34m(row)\u001b[39m\n\u001b[32m      5\u001b[39m entries = []\n\u001b[32m      7\u001b[39m \u001b[38;5;66;03m# parse month-year robustly\u001b[39;00m\n\u001b[32m----> \u001b[39m\u001b[32m8\u001b[39m start_date = \u001b[43mparse_month_year\u001b[49m(row[\u001b[33m\"\u001b[39m\u001b[33mFuleDT\u001b[39m\u001b[33m\"\u001b[39m])\n\u001b[32m     10\u001b[39m \u001b[38;5;66;03m# number of days in that month\u001b[39;00m\n\u001b[32m     11\u001b[39m days_in_month = calendar.monthrange(start_date.year, start_date.month)[\u001b[32m1\u001b[39m]\n",
      "\u001b[31mNameError\u001b[39m: name 'parse_month_year' is not defined"
     ]
    }
   ],
   "source": [
    "# ------------------------------\n",
    "# Expand all rows\n",
    "# ------------------------------\n",
    "all_entries = []\n",
    "for _, row in fuel_df.iterrows():\n",
    "    all_entries.extend(expand_monthly(row))\n",
    "\n",
    "final_df = pd.DataFrame(all_entries)"
   ]
  },
  {
   "cell_type": "code",
   "execution_count": null,
   "id": "c20b2dcb",
   "metadata": {},
   "outputs": [
    {
     "name": "stdout",
     "output_type": "stream",
     "text": [
      "✅ Daily fuel entries inserted successfully\n",
      "  vehicle_id refuel_date fuel_amount           created_on           updated_on\n",
      "0          2  2013-07-01      118.42  2013-07-01 00:00:00  2025-08-24 13:53:38\n",
      "1          2  2013-07-02      118.42  2013-07-02 00:00:00  2025-08-24 13:53:38\n",
      "2          2  2013-07-03      118.42  2013-07-03 00:00:00  2025-08-24 13:53:38\n",
      "3          2  2013-07-04      118.42  2013-07-04 00:00:00  2025-08-24 13:53:38\n",
      "4          2  2013-07-05      118.42  2013-07-05 00:00:00  2025-08-24 13:53:38\n",
      "5          2  2013-07-06      118.42  2013-07-06 00:00:00  2025-08-24 13:53:38\n",
      "6          2  2013-07-07      118.42  2013-07-07 00:00:00  2025-08-24 13:53:38\n",
      "7          2  2013-07-08      118.42  2013-07-08 00:00:00  2025-08-24 13:53:38\n",
      "8          2  2013-07-09      118.42  2013-07-09 00:00:00  2025-08-24 13:53:38\n",
      "9          2  2013-07-10      118.42  2013-07-10 00:00:00  2025-08-24 13:53:38\n"
     ]
    }
   ],
   "source": [
    "# ------------------------------\n",
    "# Insert into SQLite\n",
    "# ------------------------------\n",
    "# Drop duplicates based on refuel_date (and vehicle_id if needed)\n",
    "# final_df_nodup = final_df.drop_duplicates(subset=[\"refuel_date\"]) // Error\n",
    "final_df_nodup = final_df.drop_duplicates(subset=[\"vehicle_id\", \"refuel_date\"])\n",
    "\n",
    "conn = sqlite3.connect(\"sqlite_db/guide-mts-data.sqlite3\")\n",
    "final_df_nodup.to_sql(\"daily_fuel_entries\", conn, if_exists=\"append\", index=False)\n",
    "\n",
    "print(\"✅ Daily fuel entries inserted successfully\")\n",
    "print(final_df_nodup.head(10))"
   ]
  }
 ],
 "metadata": {
  "kernelspec": {
   "display_name": ".venv",
   "language": "python",
   "name": "python3"
  },
  "language_info": {
   "codemirror_mode": {
    "name": "ipython",
    "version": 3
   },
   "file_extension": ".py",
   "mimetype": "text/x-python",
   "name": "python",
   "nbconvert_exporter": "python",
   "pygments_lexer": "ipython3",
   "version": "3.13.7"
  }
 },
 "nbformat": 4,
 "nbformat_minor": 5
}
