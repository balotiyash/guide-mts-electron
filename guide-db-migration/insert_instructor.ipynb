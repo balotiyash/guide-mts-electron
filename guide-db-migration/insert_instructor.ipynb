{
 "cells": [
  {
   "cell_type": "code",
   "execution_count": 1,
   "id": "19dbbb4e",
   "metadata": {},
   "outputs": [],
   "source": [
    "import pandas as pd\n",
    "import sqlite3\n",
    "from datetime import datetime"
   ]
  },
  {
   "cell_type": "code",
   "execution_count": 2,
   "id": "964dc154",
   "metadata": {},
   "outputs": [
    {
     "name": "stdout",
     "output_type": "stream",
     "text": [
      "CSV selected: ./29092025_Latest_DB/csv/mst_instructor.csv\n",
      "SQLite selected: ./29092025_Latest_DB/guide-mts-database.sqlite3\n"
     ]
    }
   ],
   "source": [
    "# Step 1: Define file paths directly\n",
    "csv_file = \"./29092025_Latest_DB/csv/mst_instructor.csv\"   # adjust path to your CSV\n",
    "sqlite_file = \"./29092025_Latest_DB/guide-mts-database.sqlite3\"   # adjust path to your SQLite DB\n",
    "\n",
    "print(f\"CSV selected: {csv_file}\")\n",
    "print(f\"SQLite selected: {sqlite_file}\")"
   ]
  },
  {
   "cell_type": "code",
   "execution_count": 3,
   "id": "ad66357a",
   "metadata": {},
   "outputs": [
    {
     "name": "stdout",
     "output_type": "stream",
     "text": [
      "\n",
      "Original CSV Data:\n",
      "    InstID               InstName  \\\n",
      "0        1                  Dummy   \n",
      "1        2       PURANSINGH.DHAMI   \n",
      "2        3     NOOR MOHAMMAD KHAN   \n",
      "3        4    MOHD JAFFER  SHAIKH   \n",
      "4        5              AMIN KHAN   \n",
      "5        6          RAJJAK SHAIKH   \n",
      "6        7  MILIND KAMALAKAR KENY   \n",
      "7        8                ASHWINI   \n",
      "8        9                MUKHTAR   \n",
      "9       10                BRIJESH   \n",
      "10      11          BAHADUR SINGH   \n",
      "11      12          TAREEK ANSARI   \n",
      "12      13                RAVIDRA   \n",
      "13      14               RAVINDRA   \n",
      "14      15                MANGESH   \n",
      "15      16                  AJAY    \n",
      "\n",
      "                                         InstAdd   InstSts  \\\n",
      "0                                          Dummy  Inactive   \n",
      "1              RAWALI CAMP SION KOLIWADA MUM-37.  Inactive   \n",
      "2                SOCIAL NAGAR DHARAVI\\r\\nMUM-17.  Inactive   \n",
      "3               SHIVAJI NAGAR\\r\\nGOVANDI MUM-43.  Inactive   \n",
      "4       GULISTAN BUILDING,KURLA, MUMBAI - 400070  Inactive   \n",
      "5                                       BHANDUP   Inactive   \n",
      "6   BHANDAR WADA MUNCIPAL BLDG,R-NO-26 (E) M-22     Active   \n",
      "7                                        BHANDUP  Inactive   \n",
      "8                                        DHARAVI  Inactive   \n",
      "9                                DHARAVI MUM-17.    Active   \n",
      "10                         SION KOLIWADA MUM-22.  Inactive   \n",
      "11      SOCIAL NAGAR DHARAVI\\r\\nMUMBAI - 400017.    Active   \n",
      "12             RAWALI CAMP SION KOLIWADA MUM-37.  Inactive   \n",
      "13             RAWALI CAMP SION KOLIWADA MUM-37.  Inactive   \n",
      "14                 SION DHARAVI\\r\\nMUMBAI-400017  Inactive   \n",
      "15                        DHARAVI, MUMBAI 400017    Active   \n",
      "\n",
      "        LastUpdatedDate  \n",
      "0   2017-07-08 00:00:00  \n",
      "1   2018-05-12 00:00:00  \n",
      "2   2015-10-02 00:00:00  \n",
      "3   2016-10-13 00:00:00  \n",
      "4   2013-06-08 00:00:00  \n",
      "5   2015-10-02 00:00:00  \n",
      "6   2018-11-02 00:00:00  \n",
      "7   2018-05-12 00:00:00  \n",
      "8   2016-07-04 00:00:00  \n",
      "9   2016-07-04 00:00:00  \n",
      "10  2018-03-20 00:00:00  \n",
      "11  2021-08-28 00:00:00  \n",
      "12  2018-05-12 00:00:00  \n",
      "13  2018-11-02 00:00:00  \n",
      "14  2021-08-28 00:00:00  \n",
      "15  2020-03-09 00:00:00  \n"
     ]
    }
   ],
   "source": [
    "# Step 2: Load CSV into pandas\n",
    "df = pd.read_csv(csv_file)\n",
    "print(\"\\nOriginal CSV Data:\")\n",
    "print(df.head(20))"
   ]
  },
  {
   "cell_type": "code",
   "execution_count": 4,
   "id": "16e11630",
   "metadata": {},
   "outputs": [
    {
     "name": "stdout",
     "output_type": "stream",
     "text": [
      "   instid             instname                                   instadd  \\\n",
      "0       1                dummy                                     dummy   \n",
      "1       2     puransingh.dhami         rawali camp sion koliwada mum-37.   \n",
      "2       3   noor mohammad khan           social nagar dharavi\\r\\nmum-17.   \n",
      "3       4  mohd jaffer  shaikh          shivaji nagar\\r\\ngovandi mum-43.   \n",
      "4       5            amin khan  gulistan building,kurla, mumbai - 400070   \n",
      "\n",
      "    inststs      lastupdateddate  \n",
      "0  inactive  2017-07-08 00:00:00  \n",
      "1  inactive  2018-05-12 00:00:00  \n",
      "2  inactive  2015-10-02 00:00:00  \n",
      "3  inactive  2016-10-13 00:00:00  \n",
      "4  inactive  2013-06-08 00:00:00  \n"
     ]
    },
    {
     "name": "stderr",
     "output_type": "stream",
     "text": [
      "C:\\Users\\balot\\AppData\\Local\\Temp\\ipykernel_23168\\2227521992.py:5: FutureWarning: DataFrame.applymap has been deprecated. Use DataFrame.map instead.\n",
      "  df = df.applymap(lambda x: x.lower() if isinstance(x, str) else x)\n"
     ]
    }
   ],
   "source": [
    "# Step 2.1: Clean headers (strip spaces/quotes) and lowercase\n",
    "df.columns = df.columns.str.strip().str.replace('\"', '').str.lower()\n",
    "\n",
    "# Step 2.2: Convert all string values in the DataFrame to lowercase\n",
    "df = df.applymap(lambda x: x.lower() if isinstance(x, str) else x)\n",
    "\n",
    "print(df.head())"
   ]
  },
  {
   "cell_type": "code",
   "execution_count": 5,
   "id": "bd478a7b",
   "metadata": {},
   "outputs": [],
   "source": [
    "# Step 3: Data Cleaning & Transformation\n",
    "# Map Active/Inactive to boolean\n",
    "df[\"inststs\"] = df[\"inststs\"].map({\"active\": \"true\", \"inactive\": \"false\"})"
   ]
  },
  {
   "cell_type": "code",
   "execution_count": 6,
   "id": "9e310181",
   "metadata": {},
   "outputs": [],
   "source": [
    "# Rename columns to match instructors table schema\n",
    "df.rename(columns={\n",
    "    \"instid\": \"id\",\n",
    "    \"instname\": \"instructor_name\",\n",
    "    \"instadd\": \"instructor_license_no\", # temporary placeholder\n",
    "    \"inststs\": \"is_active\",\n",
    "    \"lastupdateddate\": \"created_on\"\n",
    "}, inplace=True)"
   ]
  },
  {
   "cell_type": "code",
   "execution_count": 7,
   "id": "c645fc21",
   "metadata": {},
   "outputs": [],
   "source": [
    "# Add columns required by schema\n",
    "df[\"license_expiration_date\"] = \"null\" # No values available → set as NULL"
   ]
  },
  {
   "cell_type": "code",
   "execution_count": 8,
   "id": "22018614",
   "metadata": {},
   "outputs": [],
   "source": [
    "# Overwrite placeholder: instructor_license_no should be NULL instead of address\n",
    "df[\"instructor_license_no\"] = \"null\""
   ]
  },
  {
   "cell_type": "code",
   "execution_count": 9,
   "id": "4add084e",
   "metadata": {},
   "outputs": [],
   "source": [
    "# Add updated_on = current local datetime\n",
    "df[\"updated_on\"] = datetime.now().strftime(\"%Y-%m-%d %H:%M:%S\")"
   ]
  },
  {
   "cell_type": "code",
   "execution_count": 10,
   "id": "e010ae16",
   "metadata": {},
   "outputs": [
    {
     "name": "stdout",
     "output_type": "stream",
     "text": [
      "\n",
      "Transformed Data:\n",
      "    id instructor_name instructor_license_no license_expiration_date  \\\n",
      "11  12   tareek ansari                  null                    null   \n",
      "12  13         ravidra                  null                    null   \n",
      "13  14        ravindra                  null                    null   \n",
      "14  15         mangesh                  null                    null   \n",
      "15  16           ajay                   null                    null   \n",
      "\n",
      "   is_active           created_on           updated_on  \n",
      "11      true  2021-08-28 00:00:00  2025-10-01 12:32:52  \n",
      "12     false  2018-05-12 00:00:00  2025-10-01 12:32:52  \n",
      "13     false  2018-11-02 00:00:00  2025-10-01 12:32:52  \n",
      "14     false  2021-08-28 00:00:00  2025-10-01 12:32:52  \n",
      "15      true  2020-03-09 00:00:00  2025-10-01 12:32:52  \n"
     ]
    }
   ],
   "source": [
    "# Reorder columns to match table\n",
    "df = df[[\"id\", \"instructor_name\", \"instructor_license_no\", \"license_expiration_date\", \"is_active\", \"created_on\", \"updated_on\"]]\n",
    "\n",
    "print(\"\\nTransformed Data:\")\n",
    "print(df.tail())"
   ]
  },
  {
   "cell_type": "code",
   "execution_count": 11,
   "id": "335525de",
   "metadata": {},
   "outputs": [],
   "source": [
    "# Step 4: Insert into SQLite\n",
    "conn = sqlite3.connect(sqlite_file)\n",
    "cursor = conn.cursor()"
   ]
  },
  {
   "cell_type": "code",
   "execution_count": 12,
   "id": "fa9f5974",
   "metadata": {},
   "outputs": [
    {
     "name": "stdout",
     "output_type": "stream",
     "text": [
      "\n",
      "Data inserted into instructors table successfully.\n"
     ]
    }
   ],
   "source": [
    "# Insert data into table\n",
    "df.to_sql(\"instructors\", conn, if_exists=\"append\", index=False)\n",
    "\n",
    "\n",
    "conn.commit()\n",
    "conn.close()\n",
    "\n",
    "\n",
    "print(\"\\nData inserted into instructors table successfully.\")"
   ]
  }
 ],
 "metadata": {
  "kernelspec": {
   "display_name": ".venv",
   "language": "python",
   "name": "python3"
  },
  "language_info": {
   "codemirror_mode": {
    "name": "ipython",
    "version": 3
   },
   "file_extension": ".py",
   "mimetype": "text/x-python",
   "name": "python",
   "nbconvert_exporter": "python",
   "pygments_lexer": "ipython3",
   "version": "3.13.7"
  }
 },
 "nbformat": 4,
 "nbformat_minor": 5
}
