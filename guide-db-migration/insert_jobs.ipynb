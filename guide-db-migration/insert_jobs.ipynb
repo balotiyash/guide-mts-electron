{
 "cells": [
  {
   "cell_type": "code",
   "execution_count": 1,
   "id": "36672b73",
   "metadata": {},
   "outputs": [],
   "source": [
    "import pandas as pd\n",
    "import sqlite3\n",
    "from datetime import datetime"
   ]
  },
  {
   "cell_type": "code",
   "execution_count": null,
   "id": "9c5f2720",
   "metadata": {},
   "outputs": [],
   "source": [
    "# ------------------------------\n",
    "# Common insert function\n",
    "# ------------------------------\n",
    "def insert_work_descriptions(csv_file, mapping_type, conn):\n",
    "    df = pd.read_csv(csv_file)\n",
    "\n",
    "    # normalize column names\n",
    "    df.columns = [c.strip() for c in df.columns]\n",
    "\n",
    "    entries = []\n",
    "\n",
    "    for _, row in df.iterrows():\n",
    "        if mapping_type == \"reason\":\n",
    "            work_val = row[\"Reason\"]\n",
    "        elif mapping_type == \"endorsement\":\n",
    "            work_val = row[\"EndorsmentType\"]\n",
    "        elif mapping_type == \"changes\":\n",
    "            work_val = row[\"ChangesRequired\"]\n",
    "        else:\n",
    "            raise ValueError(\"Invalid mapping type\")\n",
    "\n",
    "        entries.append({\n",
    "            \"customer_id\": row[\"StuID\"],\n",
    "            \"work\": work_val.tolower().strip(),\n",
    "            \"charged_amount\": \"0\",\n",
    "            \"created_on\": row[\"LastUpdatedDate\"],\n",
    "            \"updated_on\": datetime.now().strftime(\"%Y-%m-%d %H:%M:%S\")\n",
    "        })\n",
    "\n",
    "    final_df = pd.DataFrame(entries)\n",
    "\n",
    "    # ✅ append into table\n",
    "    final_df.to_sql(\"work_descriptions\", conn, if_exists=\"append\", index=False)\n",
    "    print(f\"✅ Inserted {len(final_df)} rows from {csv_file}\")"
   ]
  },
  {
   "cell_type": "code",
   "execution_count": 3,
   "id": "77afa13a",
   "metadata": {},
   "outputs": [
    {
     "name": "stdout",
     "output_type": "stream",
     "text": [
      "✅ Inserted 1260 rows from ./29092025_Latest_DB/csv/tbl_job5details.csv\n",
      "✅ Inserted 6 rows from ./29092025_Latest_DB/csv/tbl_job6details.csv\n",
      "✅ Inserted 27 rows from ./29092025_Latest_DB/csv/tbl_job7details.csv\n"
     ]
    }
   ],
   "source": [
    "# ------------------------------\n",
    "# Main\n",
    "# ------------------------------\n",
    "conn = sqlite3.connect(\"./29092025_Latest_DB/guide-mts-database.sqlite3\")\n",
    "insert_work_descriptions(\"./29092025_Latest_DB/csv/tbl_job5details.csv\", \"reason\", conn)\n",
    "insert_work_descriptions(\"./29092025_Latest_DB/csv/tbl_job6details.csv\", \"endorsement\", conn)\n",
    "insert_work_descriptions(\"./29092025_Latest_DB/csv/tbl_job7details.csv\", \"changes\", conn)\n",
    "\n",
    "conn.close()"
   ]
  }
 ],
 "metadata": {
  "kernelspec": {
   "display_name": ".venv",
   "language": "python",
   "name": "python3"
  },
  "language_info": {
   "codemirror_mode": {
    "name": "ipython",
    "version": 3
   },
   "file_extension": ".py",
   "mimetype": "text/x-python",
   "name": "python",
   "nbconvert_exporter": "python",
   "pygments_lexer": "ipython3",
   "version": "3.13.7"
  }
 },
 "nbformat": 4,
 "nbformat_minor": 5
}
