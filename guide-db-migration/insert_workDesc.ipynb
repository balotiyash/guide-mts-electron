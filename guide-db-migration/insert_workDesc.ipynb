{
 "cells": [
  {
   "cell_type": "code",
   "execution_count": 1,
   "id": "e5ddd23b",
   "metadata": {},
   "outputs": [],
   "source": [
    "import pandas as pd\n",
    "import sqlite3\n",
    "from datetime import datetime"
   ]
  },
  {
   "cell_type": "code",
   "execution_count": 2,
   "id": "d0b2e279",
   "metadata": {},
   "outputs": [],
   "source": [
    "# ------------------------------\n",
    "# Load CSVs\n",
    "# ------------------------------\n",
    "students_df = pd.read_csv(\"csv_data/yash_students1.csv\")   # StuID, JobID, etc.\n",
    "jobs_df = pd.read_csv(\"csv_data/mst_job.csv\")          # JobID, JobDesc\n",
    "fees_df = pd.read_csv(\"csv_data/tbl_stufees.csv\")          # StuID, TotalAmt, LastUpdatedDate"
   ]
  },
  {
   "cell_type": "code",
   "execution_count": 3,
   "id": "4231832e",
   "metadata": {},
   "outputs": [],
   "source": [
    "# ------------------------------\n",
    "# Merge datasets\n",
    "# ------------------------------\n",
    "# Step 1: Merge students with jobs (to get JobDesc)\n",
    "students_jobs = students_df.merge(jobs_df, on=\"JobID\", how=\"left\")"
   ]
  },
  {
   "cell_type": "code",
   "execution_count": 4,
   "id": "147ac638",
   "metadata": {},
   "outputs": [],
   "source": [
    "# Step 2: Merge with fees (to get amount + created_on)\n",
    "merged_df = students_jobs.merge(fees_df, on=\"StuID\", how=\"inner\")"
   ]
  },
  {
   "cell_type": "code",
   "execution_count": 5,
   "id": "41e877af",
   "metadata": {},
   "outputs": [],
   "source": [
    "# ------------------------------\n",
    "# Prepare final DataFrame\n",
    "# ------------------------------\n",
    "work_df = pd.DataFrame()\n",
    "work_df[\"customer_id\"] = merged_df[\"StuID\"]\n",
    "work_df[\"work\"] = merged_df[\"JobDesc\"].str.lower()\n",
    "work_df[\"charged_amount\"] = merged_df[\"TotalAmt\"]\n",
    "work_df[\"created_on\"] = merged_df[\"LastUpdatedDate_y\"]\n",
    "\n",
    "# Current local datetime\n",
    "current_time = datetime.now().strftime(\"%Y-%m-%d %H:%M:%S\")\n",
    "work_df[\"updated_on\"] = current_time"
   ]
  },
  {
   "cell_type": "code",
   "execution_count": 6,
   "id": "b3077f31",
   "metadata": {},
   "outputs": [
    {
     "name": "stdout",
     "output_type": "stream",
     "text": [
      "✅ Data inserted successfully into work_descriptions\n",
      "   customer_id                                               work  \\\n",
      "0         2775       application for new license without training   \n",
      "1         2767       application for new license without training   \n",
      "2         2774  learning four wheeler with temporary license &...   \n",
      "3         2770  learning four wheeler with temporary license &...   \n",
      "4           22  learning four wheeler with temporary license &...   \n",
      "5           44       application for new license without training   \n",
      "6           45  converting two wheeler license to four wheeler...   \n",
      "7           49  learning four wheeler with temporary license &...   \n",
      "8           51  learning four wheeler with temporary license &...   \n",
      "9           69  learning four wheeler with temporary license &...   \n",
      "\n",
      "   charged_amount           created_on           updated_on  \n",
      "0            1200  2016-01-29 00:00:00  2025-08-24 12:49:17  \n",
      "1            5200  2016-01-27 00:00:00  2025-08-24 12:49:17  \n",
      "2            5000  2016-01-29 00:00:00  2025-08-24 12:49:17  \n",
      "3            5900  2016-01-27 00:00:00  2025-08-24 12:49:17  \n",
      "4            4950  2013-05-03 00:00:00  2025-08-24 12:49:17  \n",
      "5            1200  2013-05-11 00:00:00  2025-08-24 12:49:17  \n",
      "6            1300  2013-05-11 00:00:00  2025-08-24 12:49:17  \n",
      "7            4550  2013-05-15 00:00:00  2025-08-24 12:49:17  \n",
      "8            4550  2013-05-17 00:00:00  2025-08-24 12:49:17  \n",
      "9            4550  2013-05-28 00:00:00  2025-08-24 12:49:17  \n"
     ]
    }
   ],
   "source": [
    "# ------------------------------\n",
    "# Insert into SQLite\n",
    "# ------------------------------\n",
    "conn = sqlite3.connect(\"sqlite_db/guide-mts-data.sqlite3\")  # replace with your db path\n",
    "work_df.to_sql(\"work_descriptions\", conn, if_exists=\"append\", index=False)\n",
    "\n",
    "print(\"✅ Data inserted successfully into work_descriptions\")\n",
    "print(work_df.head(10))"
   ]
  }
 ],
 "metadata": {
  "kernelspec": {
   "display_name": ".venv",
   "language": "python",
   "name": "python3"
  },
  "language_info": {
   "codemirror_mode": {
    "name": "ipython",
    "version": 3
   },
   "file_extension": ".py",
   "mimetype": "text/x-python",
   "name": "python",
   "nbconvert_exporter": "python",
   "pygments_lexer": "ipython3",
   "version": "3.11.6"
  }
 },
 "nbformat": 4,
 "nbformat_minor": 5
}
