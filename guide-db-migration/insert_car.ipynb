{
 "cells": [
  {
   "cell_type": "code",
   "execution_count": 1,
   "id": "19dbbb4e",
   "metadata": {},
   "outputs": [],
   "source": [
    "import pandas as pd\n",
    "import sqlite3\n",
    "from datetime import datetime"
   ]
  },
  {
   "cell_type": "code",
   "execution_count": 2,
   "id": "964dc154",
   "metadata": {},
   "outputs": [
    {
     "name": "stdout",
     "output_type": "stream",
     "text": [
      "CSV selected: ./29092025_Latest_DB/csv/mst_car.csv\n",
      "SQLite selected: ./29092025_Latest_DB/guide-mts-database.sqlite3\n"
     ]
    }
   ],
   "source": [
    "# Step 1: Define file paths directly\n",
    "csv_file = \"./29092025_Latest_DB/csv/mst_car.csv\"   # adjust path to your CSV\n",
    "sqlite_file = \"./29092025_Latest_DB/guide-mts-database.sqlite3\"   # adjust path to your SQLite DB\n",
    "\n",
    "print(f\"CSV selected: {csv_file}\")\n",
    "print(f\"SQLite selected: {sqlite_file}\")"
   ]
  },
  {
   "cell_type": "code",
   "execution_count": 3,
   "id": "ad66357a",
   "metadata": {},
   "outputs": [
    {
     "name": "stdout",
     "output_type": "stream",
     "text": [
      "\n",
      "Original CSV Data:\n",
      "   CarID         CarName      CarModel   CarNumber    CarSts  \\\n",
      "0      1           Dummy         Dummy       Dummy     Dummy   \n",
      "1      2     SWIFT DZIRE    2010 L.M.V  MHO1AX6136  Inactive   \n",
      "2      3         WAGON-R    2011 L.M.V  MHO1BB2662  Inactive   \n",
      "3      4   HYUNDAI- I 10    2008 L.M.V  MHO1AH0711  Inactive   \n",
      "4      5  HYUNDAI ACCENT    2005 L.M.V  MHO1PA6793  Inactive   \n",
      "5      6       HONDA DIO  2013 M/CYCLE  MHO1BJ9200  Inactive   \n",
      "6      7            AURA    2021 L.M.V  MH01DT5283    Active   \n",
      "7      8       NEW DZIRE          2022  MH01DX4274    Active   \n",
      "8      9     NEW WAGON-R          2022  MH01DX7424    Active   \n",
      "\n",
      "       LastUpdatedDate  \n",
      "0  2013-08-07 00:00:00  \n",
      "1  2013-04-11 00:00:00  \n",
      "2  2013-04-11 00:00:00  \n",
      "3  2013-04-11 00:00:00  \n",
      "4  2013-04-11 00:00:00  \n",
      "5  2013-04-11 00:00:00  \n",
      "6  2021-08-28 00:00:00  \n",
      "7  2022-03-05 00:00:00  \n",
      "8  2022-06-01 00:00:00  \n"
     ]
    }
   ],
   "source": [
    "# Step 2: Load CSV into pandas\n",
    "df = pd.read_csv(csv_file)\n",
    "print(\"\\nOriginal CSV Data:\")\n",
    "print(df.head(20))"
   ]
  },
  {
   "cell_type": "code",
   "execution_count": 4,
   "id": "16e11630",
   "metadata": {},
   "outputs": [
    {
     "name": "stdout",
     "output_type": "stream",
     "text": [
      "   carid         carname    carmodel   carnumber    carsts  \\\n",
      "0      1           dummy       dummy       dummy     dummy   \n",
      "1      2     swift dzire  2010 l.m.v  mho1ax6136  inactive   \n",
      "2      3         wagon-r  2011 l.m.v  mho1bb2662  inactive   \n",
      "3      4   hyundai- i 10  2008 l.m.v  mho1ah0711  inactive   \n",
      "4      5  hyundai accent  2005 l.m.v  mho1pa6793  inactive   \n",
      "\n",
      "       lastupdateddate  \n",
      "0  2013-08-07 00:00:00  \n",
      "1  2013-04-11 00:00:00  \n",
      "2  2013-04-11 00:00:00  \n",
      "3  2013-04-11 00:00:00  \n",
      "4  2013-04-11 00:00:00  \n"
     ]
    },
    {
     "name": "stderr",
     "output_type": "stream",
     "text": [
      "C:\\Users\\balot\\AppData\\Local\\Temp\\ipykernel_3664\\2227521992.py:5: FutureWarning: DataFrame.applymap has been deprecated. Use DataFrame.map instead.\n",
      "  df = df.applymap(lambda x: x.lower() if isinstance(x, str) else x)\n"
     ]
    }
   ],
   "source": [
    "# Step 2.1: Clean headers (strip spaces/quotes) and lowercase\n",
    "df.columns = df.columns.str.strip().str.replace('\"', '').str.lower()\n",
    "\n",
    "# Step 2.2: Convert all string values in the DataFrame to lowercase\n",
    "df = df.applymap(lambda x: x.lower() if isinstance(x, str) else x)\n",
    "\n",
    "print(df.head())"
   ]
  },
  {
   "cell_type": "code",
   "execution_count": 5,
   "id": "bd478a7b",
   "metadata": {},
   "outputs": [],
   "source": [
    "# ---- Step 3: Map active/inactive ----\n",
    "# Map Active/Inactive/Dummy → boolean-like text\n",
    "# df[\"is_active\"] = df[\"is_active\"].map({\n",
    "df[\"carsts\"] = df[\"carsts\"].map({\n",
    "    \"active\": \"true\",\n",
    "    \"inactive\": \"false\",\n",
    "    \"dummy\": \"false\"   # treat dummy as inactive\n",
    "}).fillna(\"false\")  # default if unknown"
   ]
  },
  {
   "cell_type": "code",
   "execution_count": 6,
   "id": "9e310181",
   "metadata": {},
   "outputs": [],
   "source": [
    "# Rename columns to match vehicle table schema\n",
    "df = df.rename(columns={\n",
    "    \"carid\": \"id\",\n",
    "    \"carname\": \"vehicle_name\",\n",
    "    \"carmodel\": \"vehicle_model\",\n",
    "    \"carnumber\": \"vehicle_number\",\n",
    "    \"carsts\": \"is_active\",\n",
    "    \"lastupdateddate\": \"created_on\"\n",
    "})"
   ]
  },
  {
   "cell_type": "code",
   "execution_count": 7,
   "id": "c645fc21",
   "metadata": {},
   "outputs": [],
   "source": [
    "# Add columns required by schema\n",
    "df[\"vehicle_fuel_type\"] = \"cng\"\n",
    "df[\"updated_on\"] = datetime.now().strftime(\"%Y-%m-%d %H:%M:%S\")"
   ]
  },
  {
   "cell_type": "code",
   "execution_count": 8,
   "id": "e010ae16",
   "metadata": {},
   "outputs": [
    {
     "name": "stdout",
     "output_type": "stream",
     "text": [
      "\n",
      "Transformed Data:\n",
      "   id    vehicle_name vehicle_model vehicle_number vehicle_fuel_type  \\\n",
      "0   1           dummy         dummy          dummy               cng   \n",
      "1   2     swift dzire    2010 l.m.v     mho1ax6136               cng   \n",
      "2   3         wagon-r    2011 l.m.v     mho1bb2662               cng   \n",
      "3   4   hyundai- i 10    2008 l.m.v     mho1ah0711               cng   \n",
      "4   5  hyundai accent    2005 l.m.v     mho1pa6793               cng   \n",
      "5   6       honda dio  2013 m/cycle     mho1bj9200               cng   \n",
      "6   7            aura    2021 l.m.v     mh01dt5283               cng   \n",
      "7   8       new dzire          2022     mh01dx4274               cng   \n",
      "8   9     new wagon-r          2022     mh01dx7424               cng   \n",
      "\n",
      "  is_active           created_on           updated_on  \n",
      "0     false  2013-08-07 00:00:00  2025-10-01 01:34:11  \n",
      "1     false  2013-04-11 00:00:00  2025-10-01 01:34:11  \n",
      "2     false  2013-04-11 00:00:00  2025-10-01 01:34:11  \n",
      "3     false  2013-04-11 00:00:00  2025-10-01 01:34:11  \n",
      "4     false  2013-04-11 00:00:00  2025-10-01 01:34:11  \n",
      "5     false  2013-04-11 00:00:00  2025-10-01 01:34:11  \n",
      "6      true  2021-08-28 00:00:00  2025-10-01 01:34:11  \n",
      "7      true  2022-03-05 00:00:00  2025-10-01 01:34:11  \n",
      "8      true  2022-06-01 00:00:00  2025-10-01 01:34:11  \n"
     ]
    }
   ],
   "source": [
    "# Reorder columns to match table\n",
    "df = df[[\n",
    "    \"id\", \"vehicle_name\", \"vehicle_model\", \"vehicle_number\",\n",
    "    \"vehicle_fuel_type\", \"is_active\", \"created_on\", \"updated_on\"\n",
    "]]\n",
    "\n",
    "print(\"\\nTransformed Data:\")\n",
    "print(df.head(10))"
   ]
  },
  {
   "cell_type": "code",
   "execution_count": 9,
   "id": "335525de",
   "metadata": {},
   "outputs": [],
   "source": [
    "# Step 4: Insert into SQLite\n",
    "conn = sqlite3.connect(sqlite_file)\n",
    "cursor = conn.cursor()"
   ]
  },
  {
   "cell_type": "code",
   "execution_count": 10,
   "id": "fa9f5974",
   "metadata": {},
   "outputs": [
    {
     "name": "stdout",
     "output_type": "stream",
     "text": [
      "\n",
      "Data inserted into vehicles table successfully.\n"
     ]
    }
   ],
   "source": [
    "# Insert data into table\n",
    "df.to_sql(\"vehicles\", conn, if_exists=\"append\", index=False)\n",
    "\n",
    "\n",
    "conn.commit()\n",
    "conn.close()\n",
    "\n",
    "\n",
    "print(\"\\nData inserted into vehicles table successfully.\")"
   ]
  }
 ],
 "metadata": {
  "kernelspec": {
   "display_name": ".venv",
   "language": "python",
   "name": "python3"
  },
  "language_info": {
   "codemirror_mode": {
    "name": "ipython",
    "version": 3
   },
   "file_extension": ".py",
   "mimetype": "text/x-python",
   "name": "python",
   "nbconvert_exporter": "python",
   "pygments_lexer": "ipython3",
   "version": "3.13.7"
  }
 },
 "nbformat": 4,
 "nbformat_minor": 5
}
