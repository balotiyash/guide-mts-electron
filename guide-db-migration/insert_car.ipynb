{
 "cells": [
  {
   "cell_type": "code",
   "execution_count": 5,
   "id": "19dbbb4e",
   "metadata": {},
   "outputs": [
    {
     "name": "stderr",
     "output_type": "stream",
     "text": [
      "\n",
      "[notice] A new release of pip is available: 23.2.1 -> 25.2\n",
      "[notice] To update, run: python.exe -m pip install --upgrade pip\n"
     ]
    },
    {
     "name": "stdout",
     "output_type": "stream",
     "text": [
      "Collecting pandas\n",
      "  Obtaining dependency information for pandas from https://files.pythonhosted.org/packages/a7/e7/ae86261695b6c8a36d6a4c8d5f9b9ede8248510d689a2f379a18354b37d7/pandas-2.3.2-cp311-cp311-win_amd64.whl.metadata\n",
      "  Downloading pandas-2.3.2-cp311-cp311-win_amd64.whl.metadata (19 kB)\n",
      "Requirement already satisfied: numpy>=1.23.2 in c:\\users\\balot\\appdata\\local\\programs\\python\\python311\\lib\\site-packages (from pandas) (2.3.2)\n",
      "Requirement already satisfied: python-dateutil>=2.8.2 in c:\\users\\balot\\appdata\\local\\programs\\python\\python311\\lib\\site-packages (from pandas) (2.9.0.post0)\n",
      "Collecting pytz>=2020.1 (from pandas)\n",
      "  Obtaining dependency information for pytz>=2020.1 from https://files.pythonhosted.org/packages/81/c4/34e93fe5f5429d7570ec1fa436f1986fb1f00c3e0f43a589fe2bbcd22c3f/pytz-2025.2-py2.py3-none-any.whl.metadata\n",
      "  Downloading pytz-2025.2-py2.py3-none-any.whl.metadata (22 kB)\n",
      "Collecting tzdata>=2022.7 (from pandas)\n",
      "  Obtaining dependency information for tzdata>=2022.7 from https://files.pythonhosted.org/packages/5c/23/c7abc0ca0a1526a0774eca151daeb8de62ec457e77262b66b359c3c7679e/tzdata-2025.2-py2.py3-none-any.whl.metadata\n",
      "  Downloading tzdata-2025.2-py2.py3-none-any.whl.metadata (1.4 kB)\n",
      "Requirement already satisfied: six>=1.5 in c:\\users\\balot\\appdata\\local\\programs\\python\\python311\\lib\\site-packages (from python-dateutil>=2.8.2->pandas) (1.17.0)\n",
      "Downloading pandas-2.3.2-cp311-cp311-win_amd64.whl (11.3 MB)\n",
      "   ---------------------------------------- 0.0/11.3 MB ? eta -:--:--\n",
      "   ---------------------------------------- 0.0/11.3 MB 1.3 MB/s eta 0:00:09\n",
      "   ---------------------------------------- 0.1/11.3 MB 1.3 MB/s eta 0:00:09\n",
      "    --------------------------------------- 0.2/11.3 MB 2.1 MB/s eta 0:00:06\n",
      "   - -------------------------------------- 0.6/11.3 MB 3.5 MB/s eta 0:00:04\n",
      "   --- ------------------------------------ 1.1/11.3 MB 5.1 MB/s eta 0:00:02\n",
      "   ----- ---------------------------------- 1.6/11.3 MB 6.4 MB/s eta 0:00:02\n",
      "   ------- -------------------------------- 2.1/11.3 MB 7.2 MB/s eta 0:00:02\n",
      "   --------- ------------------------------ 2.6/11.3 MB 7.6 MB/s eta 0:00:02\n",
      "   ----------- ---------------------------- 3.1/11.3 MB 8.0 MB/s eta 0:00:02\n",
      "   ------------ --------------------------- 3.6/11.3 MB 8.2 MB/s eta 0:00:01\n",
      "   -------------- ------------------------- 4.1/11.3 MB 8.4 MB/s eta 0:00:01\n",
      "   ---------------- ----------------------- 4.6/11.3 MB 8.6 MB/s eta 0:00:01\n",
      "   ------------------ --------------------- 5.2/11.3 MB 8.9 MB/s eta 0:00:01\n",
      "   -------------------- ------------------- 5.7/11.3 MB 9.1 MB/s eta 0:00:01\n",
      "   --------------------- ------------------ 6.2/11.3 MB 9.1 MB/s eta 0:00:01\n",
      "   ----------------------- ---------------- 6.5/11.3 MB 9.3 MB/s eta 0:00:01\n",
      "   ----------------------- ---------------- 6.5/11.3 MB 9.3 MB/s eta 0:00:01\n",
      "   -------------------------- ------------- 7.6/11.3 MB 9.3 MB/s eta 0:00:01\n",
      "   --------------------------- ------------ 7.7/11.3 MB 9.2 MB/s eta 0:00:01\n",
      "   ----------------------------- ---------- 8.3/11.3 MB 9.3 MB/s eta 0:00:01\n",
      "   ------------------------------- -------- 8.8/11.3 MB 9.4 MB/s eta 0:00:01\n",
      "   -------------------------------- ------- 9.3/11.3 MB 9.4 MB/s eta 0:00:01\n",
      "   ---------------------------------- ----- 9.8/11.3 MB 9.5 MB/s eta 0:00:01\n",
      "   ------------------------------------ --- 10.4/11.3 MB 10.4 MB/s eta 0:00:01\n",
      "   -------------------------------------- - 10.9/11.3 MB 10.7 MB/s eta 0:00:01\n",
      "   ---------------------------------------  11.3/11.3 MB 10.7 MB/s eta 0:00:01\n",
      "   ---------------------------------------- 11.3/11.3 MB 10.2 MB/s eta 0:00:00\n",
      "Using cached pytz-2025.2-py2.py3-none-any.whl (509 kB)\n",
      "Using cached tzdata-2025.2-py2.py3-none-any.whl (347 kB)\n",
      "Installing collected packages: pytz, tzdata, pandas\n",
      "Successfully installed pandas-2.3.2 pytz-2025.2 tzdata-2025.2\n",
      "Note: you may need to restart the kernel to use updated packages.\n"
     ]
    }
   ],
   "source": [
    "import pandas as pd\n",
    "import sqlite3\n",
    "from datetime import datetime"
   ]
  },
  {
   "cell_type": "code",
   "execution_count": 10,
   "id": "964dc154",
   "metadata": {},
   "outputs": [
    {
     "name": "stdout",
     "output_type": "stream",
     "text": [
      "CSV selected: ./csv_data_old/mst_car.csv\n",
      "SQLite selected: ./sqlite_db/guide-mts-data.sqlite3\n"
     ]
    }
   ],
   "source": [
    "# Step 1: Define file paths directly\n",
    "csv_file = \"./csv_data_old/mst_car.csv\"   # adjust path to your CSV\n",
    "sqlite_file = \"./sqlite_db/guide-mts-data.sqlite3\"   # adjust path to your SQLite DB\n",
    "\n",
    "print(f\"CSV selected: {csv_file}\")\n",
    "print(f\"SQLite selected: {sqlite_file}\")"
   ]
  },
  {
   "cell_type": "code",
   "execution_count": 11,
   "id": "ad66357a",
   "metadata": {},
   "outputs": [
    {
     "name": "stdout",
     "output_type": "stream",
     "text": [
      "\n",
      "Original CSV Data:\n",
      "   CarID         CarName      CarModel   CarNumber    CarSts  \\\n",
      "0      1           Dummy         Dummy       Dummy     Dummy   \n",
      "1      2     SWIFT DZIRE    2010 L.M.V  MHO1AX6136  Inactive   \n",
      "2      3         WAGON-R    2011 L.M.V  MHO1BB2662  Inactive   \n",
      "3      4   HYUNDAI- I 10    2008 L.M.V  MHO1AH0711  Inactive   \n",
      "4      5  HYUNDAI ACCENT    2005 L.M.V  MHO1PA6793  Inactive   \n",
      "5      6       HONDA DIO  2013 M/CYCLE  MHO1BJ9200  Inactive   \n",
      "6      7            AURA    2021 L.M.V  MH01DT5283    Active   \n",
      "7      8       NEW DZIRE          2022  MH01DX4274    Active   \n",
      "8      9     NEW WAGON-R          2022  MH01DX7424    Active   \n",
      "\n",
      "       LastUpdatedDate  \n",
      "0  2013-08-07 00:00:00  \n",
      "1  2013-04-11 00:00:00  \n",
      "2  2013-04-11 00:00:00  \n",
      "3  2013-04-11 00:00:00  \n",
      "4  2013-04-11 00:00:00  \n",
      "5  2013-04-11 00:00:00  \n",
      "6  2021-08-28 00:00:00  \n",
      "7  2022-03-05 00:00:00  \n",
      "8  2022-06-01 00:00:00  \n"
     ]
    }
   ],
   "source": [
    "# Step 2: Load CSV into pandas\n",
    "df = pd.read_csv(csv_file)\n",
    "print(\"\\nOriginal CSV Data:\")\n",
    "print(df.head(20))"
   ]
  },
  {
   "cell_type": "code",
   "execution_count": 12,
   "id": "16e11630",
   "metadata": {},
   "outputs": [
    {
     "name": "stdout",
     "output_type": "stream",
     "text": [
      "   carid         carname    carmodel   carnumber    carsts  \\\n",
      "0      1           dummy       dummy       dummy     dummy   \n",
      "1      2     swift dzire  2010 l.m.v  mho1ax6136  inactive   \n",
      "2      3         wagon-r  2011 l.m.v  mho1bb2662  inactive   \n",
      "3      4   hyundai- i 10  2008 l.m.v  mho1ah0711  inactive   \n",
      "4      5  hyundai accent  2005 l.m.v  mho1pa6793  inactive   \n",
      "\n",
      "       lastupdateddate  \n",
      "0  2013-08-07 00:00:00  \n",
      "1  2013-04-11 00:00:00  \n",
      "2  2013-04-11 00:00:00  \n",
      "3  2013-04-11 00:00:00  \n",
      "4  2013-04-11 00:00:00  \n"
     ]
    },
    {
     "name": "stderr",
     "output_type": "stream",
     "text": [
      "C:\\Users\\balot\\AppData\\Local\\Temp\\ipykernel_22340\\2227521992.py:5: FutureWarning: DataFrame.applymap has been deprecated. Use DataFrame.map instead.\n",
      "  df = df.applymap(lambda x: x.lower() if isinstance(x, str) else x)\n"
     ]
    }
   ],
   "source": [
    "# Step 2.1: Clean headers (strip spaces/quotes) and lowercase\n",
    "df.columns = df.columns.str.strip().str.replace('\"', '').str.lower()\n",
    "\n",
    "# Step 2.2: Convert all string values in the DataFrame to lowercase\n",
    "df = df.applymap(lambda x: x.lower() if isinstance(x, str) else x)\n",
    "\n",
    "print(df.head())"
   ]
  },
  {
   "cell_type": "code",
   "execution_count": 28,
   "id": "bd478a7b",
   "metadata": {},
   "outputs": [],
   "source": [
    "# ---- Step 3: Map active/inactive ----\n",
    "# Map Active/Inactive/Dummy → boolean-like text\n",
    "df[\"is_active\"] = df[\"is_active\"].map({\n",
    "    \"active\": \"true\",\n",
    "    \"inactive\": \"false\",\n",
    "    \"dummy\": \"false\"   # treat dummy as inactive\n",
    "}).fillna(\"false\")  # default if unknown"
   ]
  },
  {
   "cell_type": "code",
   "execution_count": 29,
   "id": "9e310181",
   "metadata": {},
   "outputs": [],
   "source": [
    "# Rename columns to match vehicle table schema\n",
    "df = df.rename(columns={\n",
    "    \"carid\": \"id\",\n",
    "    \"carname\": \"vehicle_name\",\n",
    "    \"carmodel\": \"vehicle_model\",\n",
    "    \"carnumber\": \"vehicle_number\",\n",
    "    \"carsts\": \"is_active\",\n",
    "    \"lastupdateddate\": \"created_on\"\n",
    "})"
   ]
  },
  {
   "cell_type": "code",
   "execution_count": 30,
   "id": "c645fc21",
   "metadata": {},
   "outputs": [],
   "source": [
    "# Add columns required by schema\n",
    "df[\"vehicle_fuel_type\"] = \"cng\"\n",
    "df[\"updated_on\"] = datetime.now().strftime(\"%Y-%m-%d %H:%M:%S\")"
   ]
  },
  {
   "cell_type": "code",
   "execution_count": 32,
   "id": "e010ae16",
   "metadata": {},
   "outputs": [
    {
     "name": "stdout",
     "output_type": "stream",
     "text": [
      "\n",
      "Transformed Data:\n",
      "   id    vehicle_name vehicle_model vehicle_number vehicle_fuel_type  \\\n",
      "0   1           dummy         dummy          dummy               cng   \n",
      "1   2     swift dzire    2010 l.m.v     mho1ax6136               cng   \n",
      "2   3         wagon-r    2011 l.m.v     mho1bb2662               cng   \n",
      "3   4   hyundai- i 10    2008 l.m.v     mho1ah0711               cng   \n",
      "4   5  hyundai accent    2005 l.m.v     mho1pa6793               cng   \n",
      "\n",
      "  is_active           created_on           updated_on  \n",
      "0     false  2013-08-07 00:00:00  2025-08-23 14:26:52  \n",
      "1     false  2013-04-11 00:00:00  2025-08-23 14:26:52  \n",
      "2     false  2013-04-11 00:00:00  2025-08-23 14:26:52  \n",
      "3     false  2013-04-11 00:00:00  2025-08-23 14:26:52  \n",
      "4     false  2013-04-11 00:00:00  2025-08-23 14:26:52  \n"
     ]
    }
   ],
   "source": [
    "# Reorder columns to match table\n",
    "df = df[[\n",
    "    \"id\", \"vehicle_name\", \"vehicle_model\", \"vehicle_number\",\n",
    "    \"vehicle_fuel_type\", \"is_active\", \"created_on\", \"updated_on\"\n",
    "]]\n",
    "\n",
    "print(\"\\nTransformed Data:\")\n",
    "print(df.head())"
   ]
  },
  {
   "cell_type": "code",
   "execution_count": 33,
   "id": "335525de",
   "metadata": {},
   "outputs": [],
   "source": [
    "# Step 4: Insert into SQLite\n",
    "conn = sqlite3.connect(sqlite_file)\n",
    "cursor = conn.cursor()"
   ]
  },
  {
   "cell_type": "code",
   "execution_count": 34,
   "id": "fa9f5974",
   "metadata": {},
   "outputs": [
    {
     "name": "stdout",
     "output_type": "stream",
     "text": [
      "\n",
      "Data inserted into vehicles table successfully.\n"
     ]
    }
   ],
   "source": [
    "# Insert data into table\n",
    "df.to_sql(\"vehicles\", conn, if_exists=\"append\", index=False)\n",
    "\n",
    "\n",
    "conn.commit()\n",
    "conn.close()\n",
    "\n",
    "\n",
    "print(\"\\nData inserted into vehicles table successfully.\")"
   ]
  }
 ],
 "metadata": {
  "kernelspec": {
   "display_name": "Python 3",
   "language": "python",
   "name": "python3"
  },
  "language_info": {
   "codemirror_mode": {
    "name": "ipython",
    "version": 3
   },
   "file_extension": ".py",
   "mimetype": "text/x-python",
   "name": "python",
   "nbconvert_exporter": "python",
   "pygments_lexer": "ipython3",
   "version": "3.11.6"
  }
 },
 "nbformat": 4,
 "nbformat_minor": 5
}
