{
 "cells": [
  {
   "cell_type": "code",
   "execution_count": 6,
   "id": "e9f14132",
   "metadata": {},
   "outputs": [],
   "source": [
    "import sqlite3\n",
    "import re\n",
    "import pandas as pd"
   ]
  },
  {
   "cell_type": "code",
   "execution_count": 2,
   "id": "bc80f4b2",
   "metadata": {},
   "outputs": [],
   "source": [
    "# Paths\n",
    "sql_dump_path = \"dump2_only_images.sql\"   # your MySQL dump file\n",
    "sqlite_db_path = \"guide-mts-data.sqlite3\" # your real sqlite DB"
   ]
  },
  {
   "cell_type": "code",
   "execution_count": 3,
   "id": "cb5ba2ab",
   "metadata": {},
   "outputs": [],
   "source": [
    "# Connect to your SQLite DB\n",
    "conn = sqlite3.connect(sqlite_db_path)\n",
    "cursor = conn.cursor()\n",
    "\n",
    "insert_count = 0\n",
    "skip_count = 0"
   ]
  },
  {
   "cell_type": "code",
   "execution_count": 4,
   "id": "5d11f3db",
   "metadata": {},
   "outputs": [
    {
     "name": "stdout",
     "output_type": "stream",
     "text": [
      "✅ Transferred 4742 images (skipped 0 lines).\n"
     ]
    }
   ],
   "source": [
    "# Regex to extract values from INSERT lines\n",
    "pattern = re.compile(\n",
    "    r\"INSERT INTO\\s+`?tbl_StuImg`?.*?\\((\\d+),\\s*(0x[0-9A-Fa-f]+|NULL),\\s*(\\d+)\\)\",\n",
    "    re.IGNORECASE\n",
    ")\n",
    "\n",
    "with open(sql_dump_path, \"r\", encoding=\"utf-8\") as f:\n",
    "    for line in f:\n",
    "        line = line.strip()\n",
    "        if not line.upper().startswith(\"INSERT\"):\n",
    "            continue\n",
    "        \n",
    "        match = pattern.search(line)\n",
    "        if not match:\n",
    "            skip_count += 1\n",
    "            continue\n",
    "\n",
    "        stu_id = int(match.group(1))\n",
    "        pic_hex = match.group(2)\n",
    "        # file_size = int(match.group(3))  # not needed for transfer\n",
    "\n",
    "        if pic_hex is None or pic_hex.upper() == \"NULL\":\n",
    "            continue\n",
    "\n",
    "        # Convert MySQL hex \"0xFFD8...\" -> bytes\n",
    "        pic_data = bytes.fromhex(pic_hex[2:])\n",
    "\n",
    "        # Update customers table\n",
    "        cursor.execute(\"\"\"\n",
    "            UPDATE customers\n",
    "            SET customer_image = ?\n",
    "            WHERE id = ?\n",
    "        \"\"\", (pic_data, stu_id))\n",
    "\n",
    "        insert_count += 1\n",
    "\n",
    "conn.commit()\n",
    "print(f\"✅ Transferred {insert_count} images (skipped {skip_count} lines).\")"
   ]
  },
  {
   "cell_type": "code",
   "execution_count": 7,
   "id": "e18e3078",
   "metadata": {},
   "outputs": [
    {
     "data": {
      "text/html": [
       "<div>\n",
       "<style scoped>\n",
       "    .dataframe tbody tr th:only-of-type {\n",
       "        vertical-align: middle;\n",
       "    }\n",
       "\n",
       "    .dataframe tbody tr th {\n",
       "        vertical-align: top;\n",
       "    }\n",
       "\n",
       "    .dataframe thead th {\n",
       "        text-align: right;\n",
       "    }\n",
       "</style>\n",
       "<table border=\"1\" class=\"dataframe\">\n",
       "  <thead>\n",
       "    <tr style=\"text-align: right;\">\n",
       "      <th></th>\n",
       "      <th>id</th>\n",
       "      <th>img_size</th>\n",
       "    </tr>\n",
       "  </thead>\n",
       "  <tbody>\n",
       "    <tr>\n",
       "      <th>0</th>\n",
       "      <td>1</td>\n",
       "      <td>417037</td>\n",
       "    </tr>\n",
       "    <tr>\n",
       "      <th>1</th>\n",
       "      <td>2</td>\n",
       "      <td>424906</td>\n",
       "    </tr>\n",
       "    <tr>\n",
       "      <th>2</th>\n",
       "      <td>4</td>\n",
       "      <td>339934</td>\n",
       "    </tr>\n",
       "    <tr>\n",
       "      <th>3</th>\n",
       "      <td>5</td>\n",
       "      <td>422061</td>\n",
       "    </tr>\n",
       "    <tr>\n",
       "      <th>4</th>\n",
       "      <td>6</td>\n",
       "      <td>343991</td>\n",
       "    </tr>\n",
       "    <tr>\n",
       "      <th>5</th>\n",
       "      <td>7</td>\n",
       "      <td>386291</td>\n",
       "    </tr>\n",
       "    <tr>\n",
       "      <th>6</th>\n",
       "      <td>8</td>\n",
       "      <td>390839</td>\n",
       "    </tr>\n",
       "    <tr>\n",
       "      <th>7</th>\n",
       "      <td>9</td>\n",
       "      <td>418052</td>\n",
       "    </tr>\n",
       "    <tr>\n",
       "      <th>8</th>\n",
       "      <td>10</td>\n",
       "      <td>413864</td>\n",
       "    </tr>\n",
       "    <tr>\n",
       "      <th>9</th>\n",
       "      <td>11</td>\n",
       "      <td>154308</td>\n",
       "    </tr>\n",
       "  </tbody>\n",
       "</table>\n",
       "</div>"
      ],
      "text/plain": [
       "   id  img_size\n",
       "0   1    417037\n",
       "1   2    424906\n",
       "2   4    339934\n",
       "3   5    422061\n",
       "4   6    343991\n",
       "5   7    386291\n",
       "6   8    390839\n",
       "7   9    418052\n",
       "8  10    413864\n",
       "9  11    154308"
      ]
     },
     "metadata": {},
     "output_type": "display_data"
    }
   ],
   "source": [
    "# Verify\n",
    "verify_df = pd.read_sql_query(\n",
    "    \"SELECT id, length(customer_image) as img_size FROM customers WHERE customer_image IS NOT NULL LIMIT 10;\",\n",
    "    conn\n",
    ")\n",
    "display(verify_df)\n",
    "\n",
    "conn.close()"
   ]
  }
 ],
 "metadata": {
  "kernelspec": {
   "display_name": ".venv",
   "language": "python",
   "name": "python3"
  },
  "language_info": {
   "codemirror_mode": {
    "name": "ipython",
    "version": 3
   },
   "file_extension": ".py",
   "mimetype": "text/x-python",
   "name": "python",
   "nbconvert_exporter": "python",
   "pygments_lexer": "ipython3",
   "version": "3.11.6"
  }
 },
 "nbformat": 4,
 "nbformat_minor": 5
}
