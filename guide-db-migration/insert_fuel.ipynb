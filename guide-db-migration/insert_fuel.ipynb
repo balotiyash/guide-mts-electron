{
 "cells": [
  {
   "cell_type": "code",
   "execution_count": 29,
   "id": "6cb684a4",
   "metadata": {},
   "outputs": [],
   "source": [
    "import pandas as pd\n",
    "import sqlite3\n",
    "from datetime import datetime, timedelta\n",
    "import calendar"
   ]
  },
  {
   "cell_type": "code",
   "execution_count": 30,
   "id": "4720edb8",
   "metadata": {},
   "outputs": [
    {
     "name": "stderr",
     "output_type": "stream",
     "text": [
      "C:\\Users\\balot\\AppData\\Local\\Temp\\ipykernel_1988\\1431882568.py:7: FutureWarning: DataFrame.applymap has been deprecated. Use DataFrame.map instead.\n",
      "  fuel_df = fuel_df.applymap(lambda x: str(x).lower() if pd.notnull(x) else None)\n"
     ]
    }
   ],
   "source": [
    "# ------------------------------\n",
    "# Load CSV\n",
    "# ------------------------------\n",
    "fuel_df = pd.read_csv(\"csv_data/tbl_carfule.csv\")\n",
    "\n",
    "# Lowercase all text\n",
    "fuel_df = fuel_df.applymap(lambda x: str(x).lower() if pd.notnull(x) else None)"
   ]
  },
  {
   "cell_type": "code",
   "execution_count": 31,
   "id": "12159507",
   "metadata": {},
   "outputs": [],
   "source": [
    "# ------------------------------\n",
    "# Function to expand month -> daily entries\n",
    "# ------------------------------\n",
    "def expand_monthly(row):\n",
    "    entries = []\n",
    "    \n",
    "    # parse month-year\n",
    "    month_str = row[\"FuleDT\"]\n",
    "    start_date = datetime.strptime(month_str, \"%B%Y\")\n",
    "    \n",
    "    # number of days in that month\n",
    "    days_in_month = calendar.monthrange(start_date.year, start_date.month)[1]\n",
    "    \n",
    "    # daily fuel amount (equal distribution)\n",
    "    daily_amt = float(row[\"FuleAmt\"]) / days_in_month\n",
    "    \n",
    "    for day in range(days_in_month):\n",
    "        date = start_date + timedelta(days=day)\n",
    "        entries.append({\n",
    "            \"vehicle_id\": row[\"CarID\"],\n",
    "            \"refuel_date\": date.strftime(\"%Y-%m-%d\"),\n",
    "            \"fuel_amount\": f\"{daily_amt:.2f}\",\n",
    "            \"created_on\": date.strftime(\"%Y-%m-%d %H:%M:%S\"),\n",
    "            \"updated_on\": datetime.now().strftime(\"%Y-%m-%d %H:%M:%S\")\n",
    "        })\n",
    "    \n",
    "    return entries"
   ]
  },
  {
   "cell_type": "code",
   "execution_count": 32,
   "id": "9f09375b",
   "metadata": {},
   "outputs": [],
   "source": [
    "# ------------------------------\n",
    "# Expand all rows\n",
    "# ------------------------------\n",
    "all_entries = []\n",
    "for _, row in fuel_df.iterrows():\n",
    "    all_entries.extend(expand_monthly(row))\n",
    "\n",
    "final_df = pd.DataFrame(all_entries)"
   ]
  },
  {
   "cell_type": "code",
   "execution_count": 34,
   "id": "c20b2dcb",
   "metadata": {},
   "outputs": [
    {
     "name": "stdout",
     "output_type": "stream",
     "text": [
      "✅ Daily fuel entries inserted successfully\n",
      "  vehicle_id refuel_date fuel_amount           created_on           updated_on\n",
      "0          2  2013-07-01      118.42  2013-07-01 00:00:00  2025-08-24 13:53:38\n",
      "1          2  2013-07-02      118.42  2013-07-02 00:00:00  2025-08-24 13:53:38\n",
      "2          2  2013-07-03      118.42  2013-07-03 00:00:00  2025-08-24 13:53:38\n",
      "3          2  2013-07-04      118.42  2013-07-04 00:00:00  2025-08-24 13:53:38\n",
      "4          2  2013-07-05      118.42  2013-07-05 00:00:00  2025-08-24 13:53:38\n",
      "5          2  2013-07-06      118.42  2013-07-06 00:00:00  2025-08-24 13:53:38\n",
      "6          2  2013-07-07      118.42  2013-07-07 00:00:00  2025-08-24 13:53:38\n",
      "7          2  2013-07-08      118.42  2013-07-08 00:00:00  2025-08-24 13:53:38\n",
      "8          2  2013-07-09      118.42  2013-07-09 00:00:00  2025-08-24 13:53:38\n",
      "9          2  2013-07-10      118.42  2013-07-10 00:00:00  2025-08-24 13:53:38\n"
     ]
    }
   ],
   "source": [
    "# ------------------------------\n",
    "# Insert into SQLite\n",
    "# ------------------------------\n",
    "# Drop duplicates based on refuel_date (and vehicle_id if needed)\n",
    "final_df_nodup = final_df.drop_duplicates(subset=[\"refuel_date\"])\n",
    "\n",
    "conn = sqlite3.connect(\"sqlite_db/guide-mts-data.sqlite3\")\n",
    "final_df_nodup.to_sql(\"daily_fuel_entries\", conn, if_exists=\"append\", index=False)\n",
    "\n",
    "print(\"✅ Daily fuel entries inserted successfully\")\n",
    "print(final_df_nodup.head(10))"
   ]
  }
 ],
 "metadata": {
  "kernelspec": {
   "display_name": ".venv",
   "language": "python",
   "name": "python3"
  },
  "language_info": {
   "codemirror_mode": {
    "name": "ipython",
    "version": 3
   },
   "file_extension": ".py",
   "mimetype": "text/x-python",
   "name": "python",
   "nbconvert_exporter": "python",
   "pygments_lexer": "ipython3",
   "version": "3.11.6"
  }
 },
 "nbformat": 4,
 "nbformat_minor": 5
}
