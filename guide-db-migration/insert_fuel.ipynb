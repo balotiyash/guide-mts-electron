{
 "cells": [
  {
   "cell_type": "code",
   "execution_count": 1,
   "id": "6cb684a4",
   "metadata": {},
   "outputs": [],
   "source": [
    "import pandas as pd\n",
    "import sqlite3\n",
    "from datetime import datetime, timedelta\n",
    "import calendar"
   ]
  },
  {
   "cell_type": "code",
   "execution_count": 2,
   "id": "4720edb8",
   "metadata": {},
   "outputs": [],
   "source": [
    "# ------------------------------\n",
    "# Load CSV\n",
    "# ------------------------------\n",
    "fuel_df = pd.read_csv(\"./29092025_Latest_DB/csv/tbl_carfule.csv\")\n",
    "\n",
    "# Strip text values only\n",
    "for col in fuel_df.select_dtypes(include=\"object\").columns:\n",
    "    fuel_df[col] = fuel_df[col].str.strip().str.lower()"
   ]
  },
  {
   "cell_type": "code",
   "execution_count": 3,
   "id": "f86e027d",
   "metadata": {},
   "outputs": [],
   "source": [
    "# ------------------------------\n",
    "# Helper: parse month-year robustly\n",
    "# ------------------------------\n",
    "def parse_month_year(month_str: str):\n",
    "    month_str = str(month_str).strip()\n",
    "    for fmt in (\"%b-%y\", \"%b-%Y\", \"%B%y\", \"%B%Y\"):\n",
    "        try:\n",
    "            return datetime.strptime(month_str, fmt)\n",
    "        except ValueError:\n",
    "            continue\n",
    "    raise ValueError(f\"Unrecognized date format: {month_str}\")"
   ]
  },
  {
   "cell_type": "code",
   "execution_count": 4,
   "id": "12159507",
   "metadata": {},
   "outputs": [],
   "source": [
    "# ------------------------------\n",
    "# Function to expand month -> daily entries\n",
    "# ------------------------------\n",
    "def expand_monthly(row):\n",
    "    entries = []\n",
    "    start_date = parse_month_year(row[\"FuleDT\"])\n",
    "    days_in_month = calendar.monthrange(start_date.year, start_date.month)[1]\n",
    "    \n",
    "    if float(row[\"FuleAmt\"]) == 0:\n",
    "        return []\n",
    "    \n",
    "    daily_amt = float(row[\"FuleAmt\"]) / days_in_month\n",
    "    \n",
    "    for day in range(days_in_month):\n",
    "        date = start_date + timedelta(days=day)\n",
    "        entries.append({\n",
    "            \"vehicle_id\": row[\"CarID\"],\n",
    "            \"refuel_date\": date.strftime(\"%Y-%m-%d\"),\n",
    "            \"fuel_amount\": f\"{daily_amt:.2f}\",\n",
    "            \"created_on\": date.strftime(\"%Y-%m-%d %H:%M:%S\"),\n",
    "            \"updated_on\": datetime.now().strftime(\"%Y-%m-%d %H:%M:%S\")\n",
    "        })\n",
    "    return entries"
   ]
  },
  {
   "cell_type": "code",
   "execution_count": 5,
   "id": "9f09375b",
   "metadata": {},
   "outputs": [],
   "source": [
    "# ------------------------------\n",
    "# Expand all rows\n",
    "# ------------------------------\n",
    "all_entries = []\n",
    "for _, row in fuel_df.iterrows():\n",
    "    all_entries.extend(expand_monthly(row))\n",
    "\n",
    "final_df = pd.DataFrame(all_entries)"
   ]
  },
  {
   "cell_type": "code",
   "execution_count": 6,
   "id": "c20b2dcb",
   "metadata": {},
   "outputs": [
    {
     "name": "stdout",
     "output_type": "stream",
     "text": [
      "✅ Daily fuel entries inserted successfully\n",
      "   vehicle_id refuel_date fuel_amount           created_on  \\\n",
      "0           2  2013-07-01      118.42  2013-07-01 00:00:00   \n",
      "1           2  2013-07-02      118.42  2013-07-02 00:00:00   \n",
      "2           2  2013-07-03      118.42  2013-07-03 00:00:00   \n",
      "3           2  2013-07-04      118.42  2013-07-04 00:00:00   \n",
      "4           2  2013-07-05      118.42  2013-07-05 00:00:00   \n",
      "5           2  2013-07-06      118.42  2013-07-06 00:00:00   \n",
      "6           2  2013-07-07      118.42  2013-07-07 00:00:00   \n",
      "7           2  2013-07-08      118.42  2013-07-08 00:00:00   \n",
      "8           2  2013-07-09      118.42  2013-07-09 00:00:00   \n",
      "9           2  2013-07-10      118.42  2013-07-10 00:00:00   \n",
      "\n",
      "            updated_on  \n",
      "0  2025-10-01 12:34:00  \n",
      "1  2025-10-01 12:34:00  \n",
      "2  2025-10-01 12:34:00  \n",
      "3  2025-10-01 12:34:00  \n",
      "4  2025-10-01 12:34:00  \n",
      "5  2025-10-01 12:34:00  \n",
      "6  2025-10-01 12:34:00  \n",
      "7  2025-10-01 12:34:00  \n",
      "8  2025-10-01 12:34:00  \n",
      "9  2025-10-01 12:34:00  \n"
     ]
    }
   ],
   "source": [
    "# ------------------------------\n",
    "# Insert into SQLite without dropping id\n",
    "# ------------------------------\n",
    "database = \"./29092025_Latest_DB/guide-mts-database.sqlite3\"\n",
    "\n",
    "final_df_nodup = final_df.drop_duplicates(subset=[\"vehicle_id\", \"refuel_date\"])\n",
    "\n",
    "conn = sqlite3.connect(database, timeout=30)\n",
    "conn.execute(\"PRAGMA journal_mode=WAL;\")  # optional: prevent locking\n",
    "\n",
    "# Insert using executemany and preserve existing table\n",
    "rows_to_insert = [\n",
    "    (r.vehicle_id, r.refuel_date, r.fuel_amount, r.created_on, r.updated_on)\n",
    "    for r in final_df_nodup.itertuples(index=False)\n",
    "]\n",
    "\n",
    "conn.executemany(\"\"\"\n",
    "    INSERT OR IGNORE INTO daily_fuel_entries\n",
    "    (vehicle_id, refuel_date, fuel_amount, created_on, updated_on)\n",
    "    VALUES (?, ?, ?, ?, ?)\n",
    "\"\"\", rows_to_insert)\n",
    "\n",
    "conn.commit()\n",
    "conn.close()\n",
    "\n",
    "print(\"✅ Daily fuel entries inserted successfully\")\n",
    "print(final_df_nodup.head(10))"
   ]
  }
 ],
 "metadata": {
  "kernelspec": {
   "display_name": ".venv",
   "language": "python",
   "name": "python3"
  },
  "language_info": {
   "codemirror_mode": {
    "name": "ipython",
    "version": 3
   },
   "file_extension": ".py",
   "mimetype": "text/x-python",
   "name": "python",
   "nbconvert_exporter": "python",
   "pygments_lexer": "ipython3",
   "version": "3.13.7"
  }
 },
 "nbformat": 4,
 "nbformat_minor": 5
}
